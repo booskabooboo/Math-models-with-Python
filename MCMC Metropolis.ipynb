{
 "cells": [
  {
   "cell_type": "markdown",
   "id": "a71691b5",
   "metadata": {},
   "source": [
    "# データ解析のための統計モデリング入門 第８章"
   ]
  },
  {
   "cell_type": "code",
   "execution_count": 1,
   "id": "8d49f53c",
   "metadata": {},
   "outputs": [],
   "source": [
    "import numpy as np\n",
    "import matplotlib.pyplot as plt\n",
    "from scipy.stats import binom\n",
    "import math\n",
    "import random\n",
    "plt.style.use(\"ggplot\")\n",
    "%matplotlib inline"
   ]
  },
  {
   "cell_type": "code",
   "execution_count": 2,
   "id": "fd5b4d19",
   "metadata": {},
   "outputs": [],
   "source": [
    "#20個体を調べた結果。各個体につき、8個の種子があって生存種子数がデータy. 生存確率を求めたい。"
   ]
  },
  {
   "cell_type": "code",
   "execution_count": 3,
   "id": "aef9d572",
   "metadata": {},
   "outputs": [],
   "source": [
    "y = [4, 3, 4, 5, 5, 2, 3, 1, 4, 0, 1, 5, 5, 6, 5, 4, 4, 5, 3, 4]"
   ]
  },
  {
   "cell_type": "code",
   "execution_count": 4,
   "id": "c8649406",
   "metadata": {},
   "outputs": [
    {
     "data": {
      "text/plain": [
       "20"
      ]
     },
     "execution_count": 4,
     "metadata": {},
     "output_type": "execute_result"
    }
   ],
   "source": [
    "len(y)"
   ]
  },
  {
   "cell_type": "code",
   "execution_count": 5,
   "id": "8dfbf2cf",
   "metadata": {},
   "outputs": [
    {
     "data": {
      "text/plain": [
       "(array([1., 2., 1., 3., 6., 6., 1.]),\n",
       " array([0.        , 0.85714286, 1.71428571, 2.57142857, 3.42857143,\n",
       "        4.28571429, 5.14285714, 6.        ]),\n",
       " <BarContainer object of 7 artists>)"
      ]
     },
     "execution_count": 5,
     "metadata": {},
     "output_type": "execute_result"
    },
    {
     "data": {
      "image/png": "[encoded data removed]",
      "text/plain": [
       "<Figure size 432x288 with 1 Axes>"
      ]
     },
     "metadata": {
      "needs_background": "light"
     },
     "output_type": "display_data"
    }
   ],
   "source": [
    "plt.hist(y, bins = 7)"
   ]
  },
  {
   "cell_type": "code",
   "execution_count": 6,
   "id": "f070d44f",
   "metadata": {},
   "outputs": [],
   "source": [
    "q_list = np.linspace(0.001, 0.999, 1000)"
   ]
  },
  {
   "cell_type": "code",
   "execution_count": 7,
   "id": "7d6645be",
   "metadata": {},
   "outputs": [
    {
     "name": "stdout",
     "output_type": "stream",
     "text": [
      "4.0393454372495295e-17\n",
      "0.45654354354354354\n"
     ]
    }
   ],
   "source": [
    "#尤度直接計算\n",
    "\n",
    "q_max = 0\n",
    "L_max = 0\n",
    "L_list = []\n",
    "\n",
    "for q in q_list:\n",
    "    L = 1 \n",
    "\n",
    "    for i in range(20):\n",
    "        L = L * binom.pmf(y[i], 8, q)\n",
    "    \n",
    "    L_list.append(L)\n",
    "    \n",
    "    if L > L_max:\n",
    "        L_max = L\n",
    "        q_max = q\n",
    "\n",
    "print(L_max)\n",
    "print(q_max)"
   ]
  },
  {
   "cell_type": "code",
   "execution_count": 8,
   "id": "94d7675c",
   "metadata": {},
   "outputs": [
    {
     "data": {
      "text/plain": [
       "Text(0.5, 1.0, 'Likelihood calculation')"
      ]
     },
     "execution_count": 8,
     "metadata": {},
     "output_type": "execute_result"
    },
    {
     "data": {
      "image/png": "[encoded data removed]",
      "text/plain": [
       "<Figure size 432x288 with 1 Axes>"
      ]
     },
     "metadata": {
      "needs_background": "light"
     },
     "output_type": "display_data"
    }
   ],
   "source": [
    "plt.plot(q_list, L_list)\n",
    "plt.title('Likelihood calculation')"
   ]
  },
  {
   "cell_type": "code",
   "execution_count": 9,
   "id": "b0a475e8",
   "metadata": {},
   "outputs": [
    {
     "name": "stdout",
     "output_type": "stream",
     "text": [
      "-110.29029269515785\n",
      "0.45654354354354354\n"
     ]
    }
   ],
   "source": [
    "# 対数尤度計算\n",
    "\n",
    "logL_list = []\n",
    "logL_max = -100000\n",
    "logL_q_max = 0\n",
    "\n",
    "def log_liklihood(y, q):\n",
    "    Sum = 0\n",
    "    for i in range(20):\n",
    "        Sum = Sum + y[i]*math.log(q) + (8 - y[i]) * math.log(1 - q)\n",
    "    return Sum\n",
    "\n",
    "for q in q_list:\n",
    "    logL = log_liklihood(y, q)\n",
    "    logL_list.append(logL)\n",
    "    \n",
    "    if logL > logL_max:\n",
    "        logL_max = logL\n",
    "        logL_q_max = q\n",
    "        \n",
    "print(logL_max)\n",
    "print(logL_q_max)"
   ]
  },
  {
   "cell_type": "code",
   "execution_count": 10,
   "id": "6e55de8e",
   "metadata": {},
   "outputs": [
    {
     "data": {
      "text/plain": [
       "Text(0.5, 1.0, 'Log Likelihood calculation')"
      ]
     },
     "execution_count": 10,
     "metadata": {},
     "output_type": "execute_result"
    },
    {
     "data": {
      "image/png": "[encoded data removed]",
      "text/plain": [
       "<Figure size 432x288 with 1 Axes>"
      ]
     },
     "metadata": {
      "needs_background": "light"
     },
     "output_type": "display_data"
    }
   ],
   "source": [
    "plt.plot(q_list, logL_list)\n",
    "plt.title('Log Likelihood calculation')"
   ]
  },
  {
   "cell_type": "code",
   "execution_count": 17,
   "id": "11caee0c",
   "metadata": {},
   "outputs": [
    {
     "name": "stdout",
     "output_type": "stream",
     "text": [
      "q_init:  0.7895317940920804\n",
      "final q:  0.4695317940920801\n"
     ]
    }
   ],
   "source": [
    "q_init = random.uniform(0, 1)\n",
    "print('q_init: ', q_init)\n",
    "\n",
    "mcs = 10000\n",
    "delta = 0.01\n",
    "\n",
    "q = q_init\n",
    "q_mcs_list = []\n",
    "\n",
    "for m in range(mcs):\n",
    "    q_mcs_list.append(q)\n",
    "    if random.uniform(0, 1) > 0.5: #go up\n",
    "        logL = log_liklihood(y, q)\n",
    "        test_logL = log_liklihood(y, q + delta)\n",
    "        if test_logL > logL:\n",
    "            q = q + delta\n",
    "        else:\n",
    "            r = math.exp(log_liklihood(y, q + delta)-log_liklihood(y, q))\n",
    "            if random.uniform(0, 1) < r:\n",
    "                q = q + delta\n",
    "    else: #go down\n",
    "        logL = log_liklihood(y, q)\n",
    "        test_logL = log_liklihood(y, q - delta)\n",
    "        if test_logL > logL:\n",
    "            q = q - delta\n",
    "        else:\n",
    "            r = math.exp(log_liklihood(y, q - delta)-log_liklihood(y, q))\n",
    "            if random.uniform(0, 1) < r:\n",
    "                q = q - delta\n",
    "\n",
    "print('final q: ', q)"
   ]
  },
  {
   "cell_type": "code",
   "execution_count": 18,
   "id": "0d392ae7",
   "metadata": {},
   "outputs": [
    {
     "data": {
      "image/png": "[encoded data removed]",
      "text/plain": [
       "<Figure size 432x288 with 1 Axes>"
      ]
     },
     "metadata": {
      "needs_background": "light"
     },
     "output_type": "display_data"
    }
   ],
   "source": [
    "plt.plot(q_mcs_list)\n",
    "plt.ylim(0, 1)\n",
    "plt.title('MCMC')\n",
    "plt.show()"
   ]
  },
  {
   "cell_type": "code",
   "execution_count": 19,
   "id": "9932f2d2",
   "metadata": {},
   "outputs": [
    {
     "name": "stdout",
     "output_type": "stream",
     "text": [
      "mcmc_average after burn-in:  0.45518679409207613\n"
     ]
    }
   ],
   "source": [
    "burn_in = math.floor(mcs/5)\n",
    "\n",
    "q_mcs_list_to_use = q_mcs_list[burn_in:]\n",
    "mcmc_average = sum(q_mcs_list_to_use)/len(q_mcs_list_to_use)\n",
    "print('mcmc_average after burn-in: ', mcmc_average)"
   ]
  },
  {
   "cell_type": "code",
   "execution_count": 20,
   "id": "f03e225f",
   "metadata": {},
   "outputs": [
    {
     "data": {
      "text/plain": [
       "Text(0.5, 1.0, 'MCMC after burn-in')"
      ]
     },
     "execution_count": 20,
     "metadata": {},
     "output_type": "execute_result"
    },
    {
     "data": {
      "image/png": "[encoded data removed]",
      "text/plain": [
       "<Figure size 432x288 with 1 Axes>"
      ]
     },
     "metadata": {
      "needs_background": "light"
     },
     "output_type": "display_data"
    }
   ],
   "source": [
    "plt.hist(q_mcs_list_to_use)\n",
    "plt.title('MCMC after burn-in')"
   ]
  },
  {
   "cell_type": "code",
   "execution_count": null,
   "id": "aa24a3e0",
   "metadata": {},
   "outputs": [],
   "source": []
  }
 ],
 "metadata": {
  "kernelspec": {
   "display_name": "Python 3",
   "language": "python",
   "name": "python3"
  },
  "language_info": {
   "codemirror_mode": {
    "name": "ipython",
    "version": 3
   },
   "file_extension": ".py",
   "mimetype": "text/x-python",
   "name": "python",
   "nbconvert_exporter": "python",
   "pygments_lexer": "ipython3",
   "version": "3.8.8"
  }
 },
 "nbformat": 4,
 "nbformat_minor": 5
}
