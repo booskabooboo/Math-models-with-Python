{
 "cells": [
  {
   "cell_type": "code",
   "execution_count": 1,
   "id": "622ee58b",
   "metadata": {},
   "outputs": [],
   "source": [
    "# Tetsuya T氏の「Pythonによる科学技術入門」講義を参考にさせていただきました\n",
    "# https://www.udemy.com/course/python-numerical-methods/"
   ]
  },
  {
   "cell_type": "code",
   "execution_count": 2,
   "id": "a4741a8f",
   "metadata": {},
   "outputs": [],
   "source": [
    "import numpy as np\n",
    "import matplotlib.pyplot as plt\n",
    "from scipy.integrate import solve_ivp\n",
    "%matplotlib inline"
   ]
  },
  {
   "cell_type": "code",
   "execution_count": 3,
   "id": "08582f55",
   "metadata": {},
   "outputs": [],
   "source": [
    "R0 = 3\n",
    "Gamma = 0.25\n",
    "Beta = R0 * Gamma\n",
    "\n",
    "S_init = 999\n",
    "I_init = 1\n",
    "R_init = 0\n",
    "\n",
    "N = S_init + I_init + R_init\n",
    "N_init = [S_init, I_init, R_init]\n",
    "T_span = [0, 500]"
   ]
  },
  {
   "cell_type": "code",
   "execution_count": 4,
   "id": "491afc47",
   "metadata": {},
   "outputs": [],
   "source": [
    "def ODE(t, Nt, Beta, Gamma, N):\n",
    "    dS = - Beta * Nt[0] * Nt[1] / N\n",
    "    dI = Beta * Nt[0] * Nt[1] / N - Gamma * Nt[1]\n",
    "    dR = Gamma * Nt[1]\n",
    "    dN = [dS, dI, dR]\n",
    "    return dN"
   ]
  },
  {
   "cell_type": "code",
   "execution_count": 5,
   "id": "2ae1b956",
   "metadata": {},
   "outputs": [],
   "source": [
    "dt = 0.01\n",
    "t = np.arange(0, 50, dt)\n",
    "solved_data = solve_ivp(ODE, T_span, N_init, t_eval= t, args=(Beta, Gamma, N,))"
   ]
  },
  {
   "cell_type": "code",
   "execution_count": 6,
   "id": "5a782ac8",
   "metadata": {},
   "outputs": [
    {
     "name": "stdout",
     "output_type": "stream",
     "text": [
      "  message: 'The solver successfully reached the end of the integration interval.'\n",
      "     nfev: 332\n",
      "     njev: 0\n",
      "      nlu: 0\n",
      "      sol: None\n",
      "   status: 0\n",
      "  success: True\n",
      "        t: array([0.000e+00, 1.000e-02, 2.000e-02, ..., 4.997e+01, 4.998e+01,\n",
      "       4.999e+01])\n",
      " t_events: None\n",
      "        y: array([[9.99000000e+02, 9.98992489e+02, 9.98984940e+02, ...,\n",
      "        5.98796973e+01, 5.98794586e+01, 5.98792204e+01],\n",
      "       [1.00000000e+00, 1.00500496e+00, 1.01003490e+00, ...,\n",
      "        5.32977463e-01, 5.31887314e-01, 5.30799452e-01],\n",
      "       [0.00000000e+00, 2.50625100e-03, 5.02504560e-03, ...,\n",
      "        9.39587325e+02, 9.39588654e+02, 9.39589980e+02]])\n",
      " y_events: None\n"
     ]
    }
   ],
   "source": [
    "print(solved_data)"
   ]
  },
  {
   "cell_type": "code",
   "execution_count": 7,
   "id": "a752ef3b",
   "metadata": {},
   "outputs": [
    {
     "data": {
      "image/png": "[encoded data removed]",
      "text/plain": [
       "<Figure size 432x288 with 1 Axes>"
      ]
     },
     "metadata": {
      "needs_background": "light"
     },
     "output_type": "display_data"
    }
   ],
   "source": [
    "plt.plot(t, solved_data.y[0], label=\"Suscptible\")\n",
    "plt.plot(t, solved_data.y[1], label=\"Infected\")\n",
    "plt.plot(t, solved_data.y[2], label=\"Recovered\")\n",
    "plt.legend()\n",
    "plt.show()"
   ]
  },
  {
   "cell_type": "code",
   "execution_count": null,
   "id": "d8c7c434",
   "metadata": {},
   "outputs": [],
   "source": []
  }
 ],
 "metadata": {
  "kernelspec": {
   "display_name": "Python 3",
   "language": "python",
   "name": "python3"
  },
  "language_info": {
   "codemirror_mode": {
    "name": "ipython",
    "version": 3
   },
   "file_extension": ".py",
   "mimetype": "text/x-python",
   "name": "python",
   "nbconvert_exporter": "python",
   "pygments_lexer": "ipython3",
   "version": "3.8.8"
  }
 },
 "nbformat": 4,
 "nbformat_minor": 5
}
